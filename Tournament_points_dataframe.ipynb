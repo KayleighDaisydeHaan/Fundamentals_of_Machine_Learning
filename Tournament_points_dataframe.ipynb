{
 "cells": [
  {
   "cell_type": "markdown",
   "metadata": {},
   "source": [
    "### Loading the CSV files"
   ]
  },
  {
   "cell_type": "markdown",
   "metadata": {},
   "source": [
    "For the final dataset I want to use for the prediction model, I wanted to be able to use total number winner and loser points. That is why I used the datasets from 29 different ATP tournaments to collect this from. "
   ]
  },
  {
   "cell_type": "code",
   "execution_count": 1,
   "metadata": {},
   "outputs": [],
   "source": [
    "import seaborn as sns\n",
    "import sklearn as sk\n",
    "import pandas as pd\n",
    "import numpy as np"
   ]
  },
  {
   "cell_type": "code",
   "execution_count": 2,
   "metadata": {},
   "outputs": [
    {
     "data": {
      "text/html": [
       "<div>\n",
       "<style scoped>\n",
       "    .dataframe tbody tr th:only-of-type {\n",
       "        vertical-align: middle;\n",
       "    }\n",
       "\n",
       "    .dataframe tbody tr th {\n",
       "        vertical-align: top;\n",
       "    }\n",
       "\n",
       "    .dataframe thead th {\n",
       "        text-align: right;\n",
       "    }\n",
       "</style>\n",
       "<table border=\"1\" class=\"dataframe\">\n",
       "  <thead>\n",
       "    <tr style=\"text-align: right;\">\n",
       "      <th></th>\n",
       "      <th>WPts</th>\n",
       "      <th>LPts</th>\n",
       "      <th>winner_rank</th>\n",
       "      <th>Winner</th>\n",
       "      <th>Loser</th>\n",
       "      <th>match</th>\n",
       "    </tr>\n",
       "  </thead>\n",
       "  <tbody>\n",
       "    <tr>\n",
       "      <th>0</th>\n",
       "      <td>1318</td>\n",
       "      <td>990.0</td>\n",
       "      <td>34</td>\n",
       "      <td>Hurkacz</td>\n",
       "      <td>Sonego</td>\n",
       "      <td>Hurkacz - Sonego</td>\n",
       "    </tr>\n",
       "    <tr>\n",
       "      <th>1</th>\n",
       "      <td>553</td>\n",
       "      <td>NaN</td>\n",
       "      <td>101</td>\n",
       "      <td>Sandgren</td>\n",
       "      <td>Venus</td>\n",
       "      <td>Sandgren - Venus</td>\n",
       "    </tr>\n",
       "    <tr>\n",
       "      <th>2</th>\n",
       "      <td>616</td>\n",
       "      <td>885.0</td>\n",
       "      <td>86</td>\n",
       "      <td>Monteiro</td>\n",
       "      <td>Norrie</td>\n",
       "      <td>Monteiro - Norrie</td>\n",
       "    </tr>\n",
       "    <tr>\n",
       "      <th>3</th>\n",
       "      <td>900</td>\n",
       "      <td>1079.0</td>\n",
       "      <td>57</td>\n",
       "      <td>Humbert</td>\n",
       "      <td>Ruud</td>\n",
       "      <td>Humbert - Ruud</td>\n",
       "    </tr>\n",
       "    <tr>\n",
       "      <th>4</th>\n",
       "      <td>1598</td>\n",
       "      <td>671.0</td>\n",
       "      <td>24</td>\n",
       "      <td>Paire</td>\n",
       "      <td>Sinner</td>\n",
       "      <td>Paire - Sinner</td>\n",
       "    </tr>\n",
       "  </tbody>\n",
       "</table>\n",
       "</div>"
      ],
      "text/plain": [
       "   WPts    LPts  winner_rank    Winner   Loser              match\n",
       "0  1318   990.0           34   Hurkacz  Sonego   Hurkacz - Sonego\n",
       "1   553     NaN          101  Sandgren   Venus   Sandgren - Venus\n",
       "2   616   885.0           86  Monteiro  Norrie  Monteiro - Norrie\n",
       "3   900  1079.0           57   Humbert    Ruud     Humbert - Ruud\n",
       "4  1598   671.0           24     Paire  Sinner     Paire - Sinner"
      ]
     },
     "execution_count": 2,
     "metadata": {},
     "output_type": "execute_result"
    }
   ],
   "source": [
    "df = pd.read_csv('adelaide.csv', sep=',')\n",
    "\n",
    "df = df[['WPts', 'LPts', 'WRank', 'Winner', 'Loser']]\n",
    "df.rename(columns={'WRank':'winner_rank'}, inplace=True)\n",
    "\n",
    "\n",
    "df['Winner'] = df['Winner'].str.split(' ').str[0]\n",
    "df['Loser'] = df['Loser'].str.split(' ').str[0]\n",
    "df['match'] = df['Winner'] + ' - ' + df['Loser']\n",
    "\n",
    "\n",
    "df.head()"
   ]
  },
  {
   "cell_type": "code",
   "execution_count": 3,
   "metadata": {},
   "outputs": [
    {
     "name": "stdout",
     "output_type": "stream",
     "text": [
      "<class 'pandas.core.frame.DataFrame'>\n",
      "RangeIndex: 127 entries, 0 to 126\n",
      "Data columns (total 6 columns):\n",
      " #   Column       Non-Null Count  Dtype  \n",
      "---  ------       --------------  -----  \n",
      " 0   WPts         127 non-null    int64  \n",
      " 1   LPts         126 non-null    float64\n",
      " 2   winner_rank  127 non-null    int64  \n",
      " 3   Winner       127 non-null    object \n",
      " 4   Loser        127 non-null    object \n",
      " 5   match        127 non-null    object \n",
      "dtypes: float64(1), int64(2), object(3)\n",
      "memory usage: 6.1+ KB\n"
     ]
    }
   ],
   "source": [
    "df1 = pd.read_csv('ausopen.csv', sep=',')\n",
    "\n",
    "df1 = df1[['WPts', 'LPts', 'WRank', 'Winner', 'Loser']]\n",
    "df1.rename(columns={'WRank':'winner_rank'}, inplace=True)\n",
    "\n",
    "df1['Winner'] = df1['Winner'].str.split(' ').str[0]\n",
    "df1['Loser'] = df1['Loser'].str.split(' ').str[0]\n",
    "df1['match'] = df1['Winner'] + ' - ' + df1['Loser']\n",
    "\n",
    "\n",
    "df1.info()"
   ]
  },
  {
   "cell_type": "code",
   "execution_count": 4,
   "metadata": {},
   "outputs": [
    {
     "name": "stdout",
     "output_type": "stream",
     "text": [
      "<class 'pandas.core.frame.DataFrame'>\n",
      "RangeIndex: 31 entries, 0 to 30\n",
      "Data columns (total 6 columns):\n",
      " #   Column       Non-Null Count  Dtype  \n",
      "---  ------       --------------  -----  \n",
      " 0   WPts         27 non-null     float64\n",
      " 1   LPts         27 non-null     float64\n",
      " 2   winner_rank  27 non-null     float64\n",
      " 3   Winner       27 non-null     object \n",
      " 4   Loser        27 non-null     object \n",
      " 5   match        27 non-null     object \n",
      "dtypes: float64(3), object(3)\n",
      "memory usage: 1.6+ KB\n"
     ]
    }
   ],
   "source": [
    "df2 = pd.read_csv('buenosaires.csv', sep=',')\n",
    "\n",
    "df2 = df2[['WPts', 'LPts', 'WRank', 'Winner', 'Loser']]\n",
    "df2.rename(columns={'WRank':'winner_rank'}, inplace=True)\n",
    "\n",
    "df2['Winner'] = df2['Winner'].str.split(' ').str[0]\n",
    "df2['Loser'] = df2['Loser'].str.split(' ').str[0]\n",
    "df2['match'] = df2['Winner'] + ' - ' + df2['Loser']\n",
    "\n",
    "\n",
    "df2.info()"
   ]
  },
  {
   "cell_type": "code",
   "execution_count": 5,
   "metadata": {},
   "outputs": [
    {
     "name": "stdout",
     "output_type": "stream",
     "text": [
      "<class 'pandas.core.frame.DataFrame'>\n",
      "RangeIndex: 55 entries, 0 to 54\n",
      "Data columns (total 6 columns):\n",
      " #   Column       Non-Null Count  Dtype \n",
      "---  ------       --------------  ----- \n",
      " 0   WPts         55 non-null     int64 \n",
      " 1   LPts         55 non-null     int64 \n",
      " 2   winner_rank  55 non-null     int64 \n",
      " 3   Winner       55 non-null     object\n",
      " 4   Loser        55 non-null     object\n",
      " 5   match        55 non-null     object\n",
      "dtypes: int64(3), object(3)\n",
      "memory usage: 2.7+ KB\n"
     ]
    }
   ],
   "source": [
    "df3 = pd.read_csv('cincinnati.csv', sep=',')\n",
    "\n",
    "df3 = df3[['WPts', 'LPts', 'WRank', 'Winner', 'Loser']]\n",
    "df3.rename(columns={'WRank':'winner_rank'}, inplace=True)\n",
    "\n",
    "df3['Winner'] = df3['Winner'].str.split(' ').str[0]\n",
    "df3['Loser'] = df3['Loser'].str.split(' ').str[0]\n",
    "df3['match'] = df3['Winner'] + ' - ' + df3['Loser']\n",
    "\n",
    "\n",
    "df3.info()"
   ]
  },
  {
   "cell_type": "code",
   "execution_count": 6,
   "metadata": {},
   "outputs": [
    {
     "name": "stdout",
     "output_type": "stream",
     "text": [
      "<class 'pandas.core.frame.DataFrame'>\n",
      "RangeIndex: 27 entries, 0 to 26\n",
      "Data columns (total 6 columns):\n",
      " #   Column       Non-Null Count  Dtype \n",
      "---  ------       --------------  ----- \n",
      " 0   WPts         27 non-null     int64 \n",
      " 1   LPts         27 non-null     int64 \n",
      " 2   winner_rank  27 non-null     int64 \n",
      " 3   Winner       27 non-null     object\n",
      " 4   Loser        27 non-null     object\n",
      " 5   match        27 non-null     object\n",
      "dtypes: int64(3), object(3)\n",
      "memory usage: 1.4+ KB\n"
     ]
    }
   ],
   "source": [
    "df4 = pd.read_csv('cologne.csv', sep=',')\n",
    "\n",
    "df4 = df4[['WPts', 'LPts', 'WRank', 'Winner', 'Loser']]\n",
    "df4.rename(columns={'WRank':'winner_rank'}, inplace=True)\n",
    "\n",
    "df4['Winner'] = df4['Winner'].str.split(' ').str[0]\n",
    "df4['Loser'] = df4['Loser'].str.split(' ').str[0]\n",
    "df4['match'] = df4['Winner'] + ' - ' + df4['Loser']\n",
    "\n",
    "\n",
    "df4.info()"
   ]
  },
  {
   "cell_type": "code",
   "execution_count": 7,
   "metadata": {},
   "outputs": [
    {
     "name": "stdout",
     "output_type": "stream",
     "text": [
      "<class 'pandas.core.frame.DataFrame'>\n",
      "RangeIndex: 27 entries, 0 to 26\n",
      "Data columns (total 6 columns):\n",
      " #   Column       Non-Null Count  Dtype \n",
      "---  ------       --------------  ----- \n",
      " 0   WPts         27 non-null     int64 \n",
      " 1   LPts         27 non-null     int64 \n",
      " 2   winner_rank  27 non-null     int64 \n",
      " 3   Winner       27 non-null     object\n",
      " 4   Loser        27 non-null     object\n",
      " 5   match        27 non-null     object\n",
      "dtypes: int64(3), object(3)\n",
      "memory usage: 1.4+ KB\n"
     ]
    }
   ],
   "source": [
    "df5 = pd.read_csv('cologne2.csv', sep=',')\n",
    "\n",
    "df5 = df5[['WPts', 'LPts', 'WRank', 'Winner', 'Loser']]\n",
    "df5.rename(columns={'WRank':'winner_rank'}, inplace=True)\n",
    "\n",
    "df5['Winner'] = df5['Winner'].str.split(' ').str[0]\n",
    "df5['Loser'] = df5['Loser'].str.split(' ').str[0]\n",
    "df5['match'] = df5['Winner'] + ' - ' + df5['Loser']\n",
    "\n",
    "\n",
    "df5.info()"
   ]
  },
  {
   "cell_type": "code",
   "execution_count": 8,
   "metadata": {},
   "outputs": [
    {
     "name": "stdout",
     "output_type": "stream",
     "text": [
      "<class 'pandas.core.frame.DataFrame'>\n",
      "RangeIndex: 31 entries, 0 to 30\n",
      "Data columns (total 6 columns):\n",
      " #   Column       Non-Null Count  Dtype  \n",
      "---  ------       --------------  -----  \n",
      " 0   WPts         30 non-null     float64\n",
      " 1   LPts         30 non-null     float64\n",
      " 2   winner_rank  30 non-null     float64\n",
      " 3   Winner       31 non-null     object \n",
      " 4   Loser        31 non-null     object \n",
      " 5   match        31 non-null     object \n",
      "dtypes: float64(3), object(3)\n",
      "memory usage: 1.6+ KB\n"
     ]
    }
   ],
   "source": [
    "df6 = pd.read_csv('delraybeach.csv', sep=',')\n",
    "\n",
    "df6 = df6[['WPts', 'LPts', 'WRank', 'Winner', 'Loser']]\n",
    "df6.rename(columns={'WRank':'winner_rank'}, inplace=True)\n",
    "\n",
    "df6['Winner'] = df6['Winner'].str.split(' ').str[0]\n",
    "df6['Loser'] = df6['Loser'].str.split(' ').str[0]\n",
    "df6['match'] = df6['Winner'] + ' - ' + df6['Loser']\n",
    "\n",
    "\n",
    "df6.info()"
   ]
  },
  {
   "cell_type": "code",
   "execution_count": 9,
   "metadata": {},
   "outputs": [
    {
     "name": "stdout",
     "output_type": "stream",
     "text": [
      "<class 'pandas.core.frame.DataFrame'>\n",
      "RangeIndex: 27 entries, 0 to 26\n",
      "Data columns (total 6 columns):\n",
      " #   Column       Non-Null Count  Dtype \n",
      "---  ------       --------------  ----- \n",
      " 0   WPts         27 non-null     int64 \n",
      " 1   LPts         27 non-null     int64 \n",
      " 2   winner_rank  27 non-null     int64 \n",
      " 3   Winner       27 non-null     object\n",
      " 4   Loser        27 non-null     object\n",
      " 5   match        27 non-null     object\n",
      "dtypes: int64(3), object(3)\n",
      "memory usage: 1.4+ KB\n"
     ]
    }
   ],
   "source": [
    "df7 = pd.read_csv('doha.csv', sep=',')\n",
    "\n",
    "df7 = df7[['WPts', 'LPts', 'WRank', 'Winner', 'Loser']]\n",
    "df7.rename(columns={'WRank':'winner_rank'}, inplace=True)\n",
    "\n",
    "df7['Winner'] = df7['Winner'].str.split(' ').str[0]\n",
    "df7['Loser'] = df7['Loser'].str.split(' ').str[0]\n",
    "df7['match'] = df7['Winner'] + ' - ' + df7['Loser']\n",
    "\n",
    "\n",
    "df7.info()"
   ]
  },
  {
   "cell_type": "code",
   "execution_count": 10,
   "metadata": {},
   "outputs": [
    {
     "name": "stdout",
     "output_type": "stream",
     "text": [
      "<class 'pandas.core.frame.DataFrame'>\n",
      "RangeIndex: 31 entries, 0 to 30\n",
      "Data columns (total 6 columns):\n",
      " #   Column       Non-Null Count  Dtype \n",
      "---  ------       --------------  ----- \n",
      " 0   WPts         31 non-null     int64 \n",
      " 1   LPts         31 non-null     int64 \n",
      " 2   winner_rank  31 non-null     int64 \n",
      " 3   Winner       31 non-null     object\n",
      " 4   Loser        31 non-null     object\n",
      " 5   match        31 non-null     object\n",
      "dtypes: int64(3), object(3)\n",
      "memory usage: 1.6+ KB\n"
     ]
    }
   ],
   "source": [
    "df8 = pd.read_csv('dubai.csv', sep=',')\n",
    "\n",
    "df8 = df8[['WPts', 'LPts', 'WRank', 'Winner', 'Loser']]\n",
    "df8.rename(columns={'WRank':'winner_rank'}, inplace=True)\n",
    "\n",
    "df8['Winner'] = df8['Winner'].str.split(' ').str[0]\n",
    "df8['Loser'] = df8['Loser'].str.split(' ').str[0]\n",
    "df8['match'] = df8['Winner'] + ' - ' + df8['Loser']\n",
    "\n",
    "\n",
    "df8.info()"
   ]
  },
  {
   "cell_type": "code",
   "execution_count": 11,
   "metadata": {},
   "outputs": [
    {
     "name": "stdout",
     "output_type": "stream",
     "text": [
      "<class 'pandas.core.frame.DataFrame'>\n",
      "RangeIndex: 127 entries, 0 to 126\n",
      "Data columns (total 6 columns):\n",
      " #   Column       Non-Null Count  Dtype \n",
      "---  ------       --------------  ----- \n",
      " 0   WPts         127 non-null    int64 \n",
      " 1   LPts         127 non-null    int64 \n",
      " 2   winner_rank  127 non-null    int64 \n",
      " 3   Winner       127 non-null    object\n",
      " 4   Loser        127 non-null    object\n",
      " 5   match        127 non-null    object\n",
      "dtypes: int64(3), object(3)\n",
      "memory usage: 6.1+ KB\n"
     ]
    }
   ],
   "source": [
    "df9 = pd.read_csv('frenchopen.csv', sep=',')\n",
    "\n",
    "df9 = df9[['WPts', 'LPts', 'WRank', 'Winner', 'Loser']]\n",
    "df9.rename(columns={'WRank':'winner_rank'}, inplace=True)\n",
    "\n",
    "df9['Winner'] = df9['Winner'].str.split(' ').str[0]\n",
    "df9['Loser'] = df9['Loser'].str.split(' ').str[0]\n",
    "df9['match'] = df9['Winner'] + ' - ' + df9['Loser']\n",
    "\n",
    "\n",
    "df9.info()"
   ]
  },
  {
   "cell_type": "code",
   "execution_count": 12,
   "metadata": {},
   "outputs": [
    {
     "name": "stdout",
     "output_type": "stream",
     "text": [
      "<class 'pandas.core.frame.DataFrame'>\n",
      "RangeIndex: 31 entries, 0 to 30\n",
      "Data columns (total 6 columns):\n",
      " #   Column       Non-Null Count  Dtype \n",
      "---  ------       --------------  ----- \n",
      " 0   WPts         31 non-null     int64 \n",
      " 1   LPts         31 non-null     int64 \n",
      " 2   winner_rank  31 non-null     int64 \n",
      " 3   Winner       31 non-null     object\n",
      " 4   Loser        31 non-null     object\n",
      " 5   match        31 non-null     object\n",
      "dtypes: int64(3), object(3)\n",
      "memory usage: 1.6+ KB\n"
     ]
    }
   ],
   "source": [
    "df10 = pd.read_csv('hamburg.csv', sep=',')\n",
    "\n",
    "df10 = df10[['WPts', 'LPts', 'WRank', 'Winner', 'Loser']]\n",
    "df10.rename(columns={'WRank':'winner_rank'}, inplace=True)\n",
    "\n",
    "df10['Winner'] = df10['Winner'].str.split(' ').str[0]\n",
    "df10['Loser'] = df10['Loser'].str.split(' ').str[0]\n",
    "df10['match'] = df10['Winner'] + ' - ' + df10['Loser']\n",
    "\n",
    "\n",
    "df10.info()"
   ]
  },
  {
   "cell_type": "code",
   "execution_count": 13,
   "metadata": {},
   "outputs": [
    {
     "name": "stdout",
     "output_type": "stream",
     "text": [
      "<class 'pandas.core.frame.DataFrame'>\n",
      "RangeIndex: 27 entries, 0 to 26\n",
      "Data columns (total 6 columns):\n",
      " #   Column       Non-Null Count  Dtype \n",
      "---  ------       --------------  ----- \n",
      " 0   WPts         27 non-null     int64 \n",
      " 1   LPts         27 non-null     int64 \n",
      " 2   winner_rank  27 non-null     int64 \n",
      " 3   Winner       27 non-null     object\n",
      " 4   Loser        27 non-null     object\n",
      " 5   match        27 non-null     object\n",
      "dtypes: int64(3), object(3)\n",
      "memory usage: 1.4+ KB\n"
     ]
    }
   ],
   "source": [
    "df11 = pd.read_csv('kitzbuhel.csv', sep=',')\n",
    "\n",
    "df11 = df11[['WPts', 'LPts', 'WRank', 'Winner', 'Loser']]\n",
    "df11.rename(columns={'WRank':'winner_rank'}, inplace=True)\n",
    "\n",
    "df11['Winner'] = df11['Winner'].str.split(' ').str[0]\n",
    "df11['Loser'] = df11['Loser'].str.split(' ').str[0]\n",
    "df11['match'] = df11['Winner'] + ' - ' + df11['Loser']\n",
    "\n",
    "\n",
    "df11.info()"
   ]
  },
  {
   "cell_type": "code",
   "execution_count": 14,
   "metadata": {},
   "outputs": [
    {
     "name": "stdout",
     "output_type": "stream",
     "text": [
      "<class 'pandas.core.frame.DataFrame'>\n",
      "RangeIndex: 31 entries, 0 to 30\n",
      "Data columns (total 6 columns):\n",
      " #   Column       Non-Null Count  Dtype  \n",
      "---  ------       --------------  -----  \n",
      " 0   WPts         27 non-null     float64\n",
      " 1   LPts         27 non-null     float64\n",
      " 2   winner_rank  27 non-null     float64\n",
      " 3   Winner       27 non-null     object \n",
      " 4   Loser        27 non-null     object \n",
      " 5   match        27 non-null     object \n",
      "dtypes: float64(3), object(3)\n",
      "memory usage: 1.6+ KB\n"
     ]
    }
   ],
   "source": [
    "df12 = pd.read_csv('marseille.csv', sep=',')\n",
    "\n",
    "df12 = df12[['WPts', 'LPts', 'WRank', 'Winner', 'Loser']]\n",
    "df12.rename(columns={'WRank':'winner_rank'}, inplace=True)\n",
    "\n",
    "df12['Winner'] = df12['Winner'].str.split(' ').str[0]\n",
    "df12['Loser'] = df12['Loser'].str.split(' ').str[0]\n",
    "df12['match'] = df12['Winner'] + ' - ' + df12['Loser']\n",
    "\n",
    "\n",
    "df12.info()"
   ]
  },
  {
   "cell_type": "code",
   "execution_count": 15,
   "metadata": {},
   "outputs": [
    {
     "name": "stdout",
     "output_type": "stream",
     "text": [
      "<class 'pandas.core.frame.DataFrame'>\n",
      "RangeIndex: 27 entries, 0 to 26\n",
      "Data columns (total 6 columns):\n",
      " #   Column       Non-Null Count  Dtype  \n",
      "---  ------       --------------  -----  \n",
      " 0   WPts         27 non-null     int64  \n",
      " 1   LPts         26 non-null     float64\n",
      " 2   winner_rank  27 non-null     int64  \n",
      " 3   Winner       27 non-null     object \n",
      " 4   Loser        27 non-null     object \n",
      " 5   match        27 non-null     object \n",
      "dtypes: float64(1), int64(2), object(3)\n",
      "memory usage: 1.4+ KB\n"
     ]
    }
   ],
   "source": [
    "df13 = pd.read_csv('montpellier.csv', sep=',')\n",
    "\n",
    "df13 = df13[['WPts', 'LPts', 'WRank', 'Winner', 'Loser']]\n",
    "df13.rename(columns={'WRank':'winner_rank'}, inplace=True)\n",
    "\n",
    "df13['Winner'] = df13['Winner'].str.split(' ').str[0]\n",
    "df13['Loser'] = df13['Loser'].str.split(' ').str[0]\n",
    "df13['match'] = df13['Winner'] + ' - ' + df13['Loser']\n",
    "\n",
    "\n",
    "df.info()"
   ]
  },
  {
   "cell_type": "code",
   "execution_count": 16,
   "metadata": {},
   "outputs": [
    {
     "name": "stdout",
     "output_type": "stream",
     "text": [
      "<class 'pandas.core.frame.DataFrame'>\n",
      "RangeIndex: 31 entries, 0 to 30\n",
      "Data columns (total 6 columns):\n",
      " #   Column       Non-Null Count  Dtype  \n",
      "---  ------       --------------  -----  \n",
      " 0   WPts         27 non-null     float64\n",
      " 1   LPts         25 non-null     float64\n",
      " 2   winner_rank  27 non-null     float64\n",
      " 3   Winner       27 non-null     object \n",
      " 4   Loser        27 non-null     object \n",
      " 5   match        27 non-null     object \n",
      "dtypes: float64(3), object(3)\n",
      "memory usage: 1.6+ KB\n"
     ]
    }
   ],
   "source": [
    "df14 = pd.read_csv('newyork.csv', sep=',')\n",
    "\n",
    "df14 = df14[['WPts', 'LPts', 'WRank', 'Winner', 'Loser']]\n",
    "df14.rename(columns={'WRank':'winner_rank'}, inplace=True)\n",
    "\n",
    "df14['Winner'] = df14['Winner'].str.split(' ').str[0]\n",
    "df14['Loser'] = df14['Loser'].str.split(' ').str[0]\n",
    "df14['match'] = df14['Winner'] + ' - ' + df14['Loser']\n",
    "\n",
    "\n",
    "df14.info()"
   ]
  },
  {
   "cell_type": "code",
   "execution_count": 17,
   "metadata": {},
   "outputs": [
    {
     "name": "stdout",
     "output_type": "stream",
     "text": [
      "<class 'pandas.core.frame.DataFrame'>\n",
      "RangeIndex: 31 entries, 0 to 30\n",
      "Data columns (total 6 columns):\n",
      " #   Column       Non-Null Count  Dtype  \n",
      "---  ------       --------------  -----  \n",
      " 0   WPts         27 non-null     float64\n",
      " 1   LPts         27 non-null     float64\n",
      " 2   winner_rank  27 non-null     float64\n",
      " 3   Winner       27 non-null     object \n",
      " 4   Loser        27 non-null     object \n",
      " 5   match        27 non-null     object \n",
      "dtypes: float64(3), object(3)\n",
      "memory usage: 1.6+ KB\n"
     ]
    }
   ],
   "source": [
    "df15 = pd.read_csv('nur-sultan.csv', sep=',')\n",
    "\n",
    "df15 = df15[['WPts', 'LPts', 'WRank', 'Winner', 'Loser']]\n",
    "df15.rename(columns={'WRank':'winner_rank'}, inplace=True)\n",
    "\n",
    "df15['Winner'] = df15['Winner'].str.split(' ').str[0]\n",
    "df15['Loser'] = df15['Loser'].str.split(' ').str[0]\n",
    "df15['match'] = df15['Winner'] + ' - ' + df15['Loser']\n",
    "\n",
    "\n",
    "df15.info()"
   ]
  },
  {
   "cell_type": "code",
   "execution_count": 18,
   "metadata": {},
   "outputs": [
    {
     "name": "stdout",
     "output_type": "stream",
     "text": [
      "<class 'pandas.core.frame.DataFrame'>\n",
      "RangeIndex: 55 entries, 0 to 54\n",
      "Data columns (total 6 columns):\n",
      " #   Column       Non-Null Count  Dtype \n",
      "---  ------       --------------  ----- \n",
      " 0   WPts         55 non-null     int64 \n",
      " 1   LPts         55 non-null     int64 \n",
      " 2   winner_rank  55 non-null     int64 \n",
      " 3   Winner       55 non-null     object\n",
      " 4   Loser        55 non-null     object\n",
      " 5   match        55 non-null     object\n",
      "dtypes: int64(3), object(3)\n",
      "memory usage: 2.7+ KB\n"
     ]
    }
   ],
   "source": [
    "df16 = pd.read_csv('paris.csv', sep=',')\n",
    "\n",
    "df16 = df16[['WPts', 'LPts', 'WRank', 'Winner', 'Loser']]\n",
    "df16.rename(columns={'WRank':'winner_rank'}, inplace=True)\n",
    "\n",
    "df16['Winner'] = df16['Winner'].str.split(' ').str[0]\n",
    "df16['Loser'] = df16['Loser'].str.split(' ').str[0]\n",
    "df16['match'] = df16['Winner'] + ' - ' + df16['Loser']\n",
    "\n",
    "df16.info()"
   ]
  },
  {
   "cell_type": "code",
   "execution_count": 19,
   "metadata": {},
   "outputs": [
    {
     "name": "stdout",
     "output_type": "stream",
     "text": [
      "<class 'pandas.core.frame.DataFrame'>\n",
      "RangeIndex: 27 entries, 0 to 26\n",
      "Data columns (total 6 columns):\n",
      " #   Column       Non-Null Count  Dtype \n",
      "---  ------       --------------  ----- \n",
      " 0   WPts         27 non-null     int64 \n",
      " 1   LPts         27 non-null     int64 \n",
      " 2   winner_rank  27 non-null     int64 \n",
      " 3   Winner       27 non-null     object\n",
      " 4   Loser        27 non-null     object\n",
      " 5   match        27 non-null     object\n",
      "dtypes: int64(3), object(3)\n",
      "memory usage: 1.4+ KB\n"
     ]
    }
   ],
   "source": [
    "df17 = pd.read_csv('pune.csv', sep=',')\n",
    "\n",
    "df17 = df17[['WPts', 'LPts', 'WRank', 'Winner', 'Loser']]\n",
    "df17.rename(columns={'WRank':'winner_rank'}, inplace=True)\n",
    "\n",
    "df17['Winner'] = df17['Winner'].str.split(' ').str[0]\n",
    "df17['Loser'] = df17['Loser'].str.split(' ').str[0]\n",
    "df17['match'] = df17['Winner'] + ' - ' + df17['Loser']\n",
    "\n",
    "\n",
    "df17.info()"
   ]
  },
  {
   "cell_type": "code",
   "execution_count": 20,
   "metadata": {},
   "outputs": [
    {
     "name": "stdout",
     "output_type": "stream",
     "text": [
      "<class 'pandas.core.frame.DataFrame'>\n",
      "RangeIndex: 31 entries, 0 to 30\n",
      "Data columns (total 6 columns):\n",
      " #   Column       Non-Null Count  Dtype \n",
      "---  ------       --------------  ----- \n",
      " 0   WPts         31 non-null     int64 \n",
      " 1   LPts         31 non-null     int64 \n",
      " 2   winner_rank  31 non-null     int64 \n",
      " 3   Winner       31 non-null     object\n",
      " 4   Loser        31 non-null     object\n",
      " 5   match        31 non-null     object\n",
      "dtypes: int64(3), object(3)\n",
      "memory usage: 1.6+ KB\n"
     ]
    }
   ],
   "source": [
    "df18 = pd.read_csv('riodejaneiro.csv', sep=',')\n",
    "\n",
    "df18 = df18[['WPts', 'LPts', 'WRank', 'Winner', 'Loser']]\n",
    "df18.rename(columns={'WRank':'winner_rank'}, inplace=True)\n",
    "\n",
    "df18['Winner'] = df18['Winner'].str.split(' ').str[0]\n",
    "df18['Loser'] = df18['Loser'].str.split(' ').str[0]\n",
    "df18['match'] = df18['Winner'] + ' - ' + df18['Loser']\n",
    "\n",
    "\n",
    "df18.info()"
   ]
  },
  {
   "cell_type": "code",
   "execution_count": 21,
   "metadata": {},
   "outputs": [
    {
     "name": "stdout",
     "output_type": "stream",
     "text": [
      "<class 'pandas.core.frame.DataFrame'>\n",
      "RangeIndex: 54 entries, 0 to 53\n",
      "Data columns (total 6 columns):\n",
      " #   Column       Non-Null Count  Dtype \n",
      "---  ------       --------------  ----- \n",
      " 0   WPts         54 non-null     int64 \n",
      " 1   LPts         54 non-null     int64 \n",
      " 2   winner_rank  54 non-null     int64 \n",
      " 3   Winner       54 non-null     object\n",
      " 4   Loser        54 non-null     object\n",
      " 5   match        54 non-null     object\n",
      "dtypes: int64(3), object(3)\n",
      "memory usage: 2.7+ KB\n"
     ]
    }
   ],
   "source": [
    "df19 = pd.read_csv('rome.csv', sep=',')\n",
    "\n",
    "df19 = df19[['WPts', 'LPts', 'WRank', 'Winner', 'Loser']]\n",
    "df19.rename(columns={'WRank':'winner_rank'}, inplace=True)\n",
    "\n",
    "df19['Winner'] = df19['Winner'].str.split(' ').str[0]\n",
    "df19['Loser'] = df19['Loser'].str.split(' ').str[0]\n",
    "df19['match'] = df19['Winner'] + ' - ' + df19['Loser']\n",
    "\n",
    "\n",
    "df19.info()"
   ]
  },
  {
   "cell_type": "code",
   "execution_count": 22,
   "metadata": {},
   "outputs": [
    {
     "name": "stdout",
     "output_type": "stream",
     "text": [
      "<class 'pandas.core.frame.DataFrame'>\n",
      "RangeIndex: 31 entries, 0 to 30\n",
      "Data columns (total 6 columns):\n",
      " #   Column       Non-Null Count  Dtype \n",
      "---  ------       --------------  ----- \n",
      " 0   WPts         31 non-null     int64 \n",
      " 1   LPts         31 non-null     int64 \n",
      " 2   winner_rank  31 non-null     int64 \n",
      " 3   Winner       31 non-null     object\n",
      " 4   Loser        31 non-null     object\n",
      " 5   match        31 non-null     object\n",
      "dtypes: int64(3), object(3)\n",
      "memory usage: 1.6+ KB\n"
     ]
    }
   ],
   "source": [
    "df20 = pd.read_csv('rotterdam.csv', sep=',')\n",
    "\n",
    "df20 = df20[['WPts', 'LPts', 'WRank', 'Winner', 'Loser']]\n",
    "df20.rename(columns={'WRank':'winner_rank'}, inplace=True)\n",
    "\n",
    "df20['Winner'] = df20['Winner'].str.split(' ').str[0]\n",
    "df20['Loser'] = df20['Loser'].str.split(' ').str[0]\n",
    "df20['match'] = df20['Winner'] + ' - ' + df20['Loser']\n",
    "\n",
    "\n",
    "df20.info()"
   ]
  },
  {
   "cell_type": "code",
   "execution_count": 23,
   "metadata": {},
   "outputs": [
    {
     "name": "stdout",
     "output_type": "stream",
     "text": [
      "<class 'pandas.core.frame.DataFrame'>\n",
      "RangeIndex: 31 entries, 0 to 30\n",
      "Data columns (total 6 columns):\n",
      " #   Column       Non-Null Count  Dtype  \n",
      "---  ------       --------------  -----  \n",
      " 0   WPts         27 non-null     float64\n",
      " 1   LPts         27 non-null     float64\n",
      " 2   winner_rank  27 non-null     float64\n",
      " 3   Winner       27 non-null     object \n",
      " 4   Loser        27 non-null     object \n",
      " 5   match        27 non-null     object \n",
      "dtypes: float64(3), object(3)\n",
      "memory usage: 1.6+ KB\n"
     ]
    }
   ],
   "source": [
    "df21 = pd.read_csv('santiago.csv', sep=',')\n",
    "\n",
    "df21 = df21[['WPts', 'LPts', 'WRank', 'Winner', 'Loser']]\n",
    "df21.rename(columns={'WRank':'winner_rank'}, inplace=True)\n",
    "\n",
    "df21['Winner'] = df21['Winner'].str.split(' ').str[0]\n",
    "df21['Loser'] = df21['Loser'].str.split(' ').str[0]\n",
    "df21['match'] = df21['Winner'] + ' - ' + df21['Loser']\n",
    "\n",
    "\n",
    "df21.info()"
   ]
  },
  {
   "cell_type": "code",
   "execution_count": 24,
   "metadata": {},
   "outputs": [
    {
     "name": "stdout",
     "output_type": "stream",
     "text": [
      "<class 'pandas.core.frame.DataFrame'>\n",
      "RangeIndex: 27 entries, 0 to 26\n",
      "Data columns (total 6 columns):\n",
      " #   Column       Non-Null Count  Dtype \n",
      "---  ------       --------------  ----- \n",
      " 0   WPts         27 non-null     int64 \n",
      " 1   LPts         27 non-null     int64 \n",
      " 2   winner_rank  27 non-null     int64 \n",
      " 3   Winner       27 non-null     object\n",
      " 4   Loser        27 non-null     object\n",
      " 5   match        27 non-null     object\n",
      "dtypes: int64(3), object(3)\n",
      "memory usage: 1.4+ KB\n"
     ]
    }
   ],
   "source": [
    "df22 = pd.read_csv('sardinia.csv', sep=',')\n",
    "\n",
    "df22 = df22[['WPts', 'LPts', 'WRank', 'Winner', 'Loser']]\n",
    "df22.rename(columns={'WRank':'winner_rank'}, inplace=True)\n",
    "\n",
    "df22['Winner'] = df22['Winner'].str.split(' ').str[0]\n",
    "df22['Loser'] = df22['Loser'].str.split(' ').str[0]\n",
    "df22['match'] = df22['Winner'] + ' - ' + df22['Loser']\n",
    "\n",
    "\n",
    "df22.info()"
   ]
  },
  {
   "cell_type": "code",
   "execution_count": 25,
   "metadata": {},
   "outputs": [
    {
     "name": "stdout",
     "output_type": "stream",
     "text": [
      "<class 'pandas.core.frame.DataFrame'>\n",
      "RangeIndex: 27 entries, 0 to 26\n",
      "Data columns (total 6 columns):\n",
      " #   Column       Non-Null Count  Dtype \n",
      "---  ------       --------------  ----- \n",
      " 0   WPts         27 non-null     int64 \n",
      " 1   LPts         27 non-null     int64 \n",
      " 2   winner_rank  27 non-null     int64 \n",
      " 3   Winner       27 non-null     object\n",
      " 4   Loser        27 non-null     object\n",
      " 5   match        27 non-null     object\n",
      "dtypes: int64(3), object(3)\n",
      "memory usage: 1.4+ KB\n"
     ]
    }
   ],
   "source": [
    "df23 = pd.read_csv('sofia.csv', sep=',')\n",
    "\n",
    "df23 = df23[['WPts', 'LPts', 'WRank', 'Winner', 'Loser']]\n",
    "df23.rename(columns={'WRank':'winner_rank'}, inplace=True)\n",
    "\n",
    "df23['Winner'] = df23['Winner'].str.split(' ').str[0]\n",
    "df23['Loser'] = df23['Loser'].str.split(' ').str[0]\n",
    "df23['match'] = df23['Winner'] + ' - ' + df23['Loser']\n",
    "\n",
    "\n",
    "df23.info()"
   ]
  },
  {
   "cell_type": "code",
   "execution_count": 26,
   "metadata": {},
   "outputs": [
    {
     "name": "stdout",
     "output_type": "stream",
     "text": [
      "<class 'pandas.core.frame.DataFrame'>\n",
      "RangeIndex: 31 entries, 0 to 30\n",
      "Data columns (total 6 columns):\n",
      " #   Column       Non-Null Count  Dtype \n",
      "---  ------       --------------  ----- \n",
      " 0   WPts         31 non-null     int64 \n",
      " 1   LPts         31 non-null     int64 \n",
      " 2   winner_rank  31 non-null     int64 \n",
      " 3   Winner       31 non-null     object\n",
      " 4   Loser        31 non-null     object\n",
      " 5   match        31 non-null     object\n",
      "dtypes: int64(3), object(3)\n",
      "memory usage: 1.6+ KB\n"
     ]
    }
   ],
   "source": [
    "df24 = pd.read_csv('stpetersburg.csv', sep=',')\n",
    "\n",
    "df24 = df24[['WPts', 'LPts', 'WRank', 'Winner', 'Loser']]\n",
    "df24.rename(columns={'WRank':'winner_rank'}, inplace=True)\n",
    "\n",
    "df24['Winner'] = df24['Winner'].str.split(' ').str[0]\n",
    "df24['Loser'] = df24['Loser'].str.split(' ').str[0]\n",
    "df24['match'] = df24['Winner'] + ' - ' + df24['Loser']\n",
    "\n",
    "\n",
    "df24.info()"
   ]
  },
  {
   "cell_type": "code",
   "execution_count": 27,
   "metadata": {},
   "outputs": [
    {
     "name": "stdout",
     "output_type": "stream",
     "text": [
      "<class 'pandas.core.frame.DataFrame'>\n",
      "RangeIndex: 127 entries, 0 to 126\n",
      "Data columns (total 6 columns):\n",
      " #   Column       Non-Null Count  Dtype \n",
      "---  ------       --------------  ----- \n",
      " 0   WPts         127 non-null    int64 \n",
      " 1   LPts         127 non-null    int64 \n",
      " 2   winner_rank  127 non-null    int64 \n",
      " 3   Winner       127 non-null    object\n",
      " 4   Loser        127 non-null    object\n",
      " 5   match        127 non-null    object\n",
      "dtypes: int64(3), object(3)\n",
      "memory usage: 6.1+ KB\n"
     ]
    }
   ],
   "source": [
    "df25 = pd.read_csv('usopen.csv', sep=',')\n",
    "\n",
    "df25 = df25[['WPts', 'LPts', 'WRank', 'Winner', 'Loser']]\n",
    "df25.rename(columns={'WRank':'winner_rank'}, inplace=True)\n",
    "\n",
    "df25['Winner'] = df25['Winner'].str.split(' ').str[0]\n",
    "df25['Loser'] = df25['Loser'].str.split(' ').str[0]\n",
    "df25['match'] = df25['Winner'] + ' - ' + df25['Loser']\n",
    "\n",
    "\n",
    "df25.info()"
   ]
  },
  {
   "cell_type": "code",
   "execution_count": 28,
   "metadata": {},
   "outputs": [
    {
     "name": "stdout",
     "output_type": "stream",
     "text": [
      "<class 'pandas.core.frame.DataFrame'>\n",
      "RangeIndex: 31 entries, 0 to 30\n",
      "Data columns (total 6 columns):\n",
      " #   Column       Non-Null Count  Dtype \n",
      "---  ------       --------------  ----- \n",
      " 0   WPts         31 non-null     int64 \n",
      " 1   LPts         31 non-null     int64 \n",
      " 2   winner_rank  31 non-null     int64 \n",
      " 3   Winner       31 non-null     object\n",
      " 4   Loser        31 non-null     object\n",
      " 5   match        31 non-null     object\n",
      "dtypes: int64(3), object(3)\n",
      "memory usage: 1.6+ KB\n"
     ]
    }
   ],
   "source": [
    "df26 = pd.read_csv('vienna.csv', sep=',')\n",
    "\n",
    "df26 = df26[['WPts', 'LPts', 'WRank', 'Winner', 'Loser']]\n",
    "df26.rename(columns={'WRank':'winner_rank'}, inplace=True)\n",
    "\n",
    "df26['Winner'] = df26['Winner'].str.split(' ').str[0]\n",
    "df26['Loser'] = df26['Loser'].str.split(' ').str[0]\n",
    "df26['match'] = df26['Winner'] + ' - ' + df26['Loser']\n",
    "\n",
    "\n",
    "df26.info()"
   ]
  },
  {
   "cell_type": "code",
   "execution_count": 29,
   "metadata": {},
   "outputs": [
    {
     "name": "stdout",
     "output_type": "stream",
     "text": [
      "<class 'pandas.core.frame.DataFrame'>\n",
      "RangeIndex: 27 entries, 0 to 26\n",
      "Data columns (total 6 columns):\n",
      " #   Column       Non-Null Count  Dtype \n",
      "---  ------       --------------  ----- \n",
      " 0   WPts         27 non-null     int64 \n",
      " 1   LPts         27 non-null     int64 \n",
      " 2   winner_rank  27 non-null     int64 \n",
      " 3   Winner       27 non-null     object\n",
      " 4   Loser        27 non-null     object\n",
      " 5   match        27 non-null     object\n",
      "dtypes: int64(3), object(3)\n",
      "memory usage: 1.4+ KB\n"
     ]
    }
   ],
   "source": [
    "df27 = pd.read_csv('antwerp.csv', sep=',')\n",
    "\n",
    "df27 = df27[['WPts', 'LPts', 'WRank', 'Winner', 'Loser']]\n",
    "df27.rename(columns={'WRank':'winner_rank'}, inplace=True)\n",
    "\n",
    "df27['Winner'] = df27['Winner'].str.split(' ').str[0]\n",
    "df27['Loser'] = df27['Loser'].str.split(' ').str[0]\n",
    "df27['match'] = df27['Winner'] + ' - ' + df27['Loser']\n",
    "\n",
    "\n",
    "df27.info()"
   ]
  },
  {
   "cell_type": "code",
   "execution_count": 30,
   "metadata": {},
   "outputs": [
    {
     "name": "stdout",
     "output_type": "stream",
     "text": [
      "<class 'pandas.core.frame.DataFrame'>\n",
      "RangeIndex: 31 entries, 0 to 30\n",
      "Data columns (total 6 columns):\n",
      " #   Column       Non-Null Count  Dtype \n",
      "---  ------       --------------  ----- \n",
      " 0   WPts         31 non-null     int64 \n",
      " 1   LPts         31 non-null     int64 \n",
      " 2   winner_rank  31 non-null     int64 \n",
      " 3   Winner       31 non-null     object\n",
      " 4   Loser        31 non-null     object\n",
      " 5   match        31 non-null     object\n",
      "dtypes: int64(3), object(3)\n",
      "memory usage: 1.6+ KB\n"
     ]
    }
   ],
   "source": [
    "df28 = pd.read_csv('acapulco.csv', sep=',')\n",
    "\n",
    "df28 = df28[['WPts', 'LPts', 'WRank', 'Winner', 'Loser']]\n",
    "df28.rename(columns={'WRank':'winner_rank'}, inplace=True)\n",
    "\n",
    "df28['Winner'] = df28['Winner'].str.split(' ').str[0]\n",
    "df28['Loser'] = df28['Loser'].str.split(' ').str[0]\n",
    "df28['match'] = df28['Winner'] + ' - ' + df28['Loser']\n",
    "\n",
    "\n",
    "df28.info()"
   ]
  },
  {
   "cell_type": "code",
   "execution_count": 31,
   "metadata": {},
   "outputs": [
    {
     "name": "stdout",
     "output_type": "stream",
     "text": [
      "<class 'pandas.core.frame.DataFrame'>\n",
      "RangeIndex: 15 entries, 0 to 14\n",
      "Data columns (total 6 columns):\n",
      " #   Column       Non-Null Count  Dtype \n",
      "---  ------       --------------  ----- \n",
      " 0   WPts         15 non-null     int64 \n",
      " 1   LPts         15 non-null     int64 \n",
      " 2   winner_rank  15 non-null     int64 \n",
      " 3   Winner       15 non-null     object\n",
      " 4   Loser        15 non-null     object\n",
      " 5   match        15 non-null     object\n",
      "dtypes: int64(3), object(3)\n",
      "memory usage: 848.0+ bytes\n"
     ]
    }
   ],
   "source": [
    "df29 = pd.read_csv('masterscup.csv', sep=',')\n",
    "\n",
    "df29 = df29[['WPts', 'LPts', 'WRank', 'Winner', 'Loser']]\n",
    "df29.rename(columns={'WRank':'winner_rank'}, inplace=True)\n",
    "\n",
    "df29['Winner'] = df29['Winner'].str.split(' ').str[0]\n",
    "df29['Loser'] = df29['Loser'].str.split(' ').str[0]\n",
    "df29['match'] = df29['Winner'] + ' - ' + df29['Loser']\n",
    "\n",
    "\n",
    "df29.info()"
   ]
  },
  {
   "cell_type": "markdown",
   "metadata": {},
   "source": [
    "### Merging all the df's\n",
    "After collecting only the columns that contained information about winner points and loser points, and the winners in order to eventually be able to merge the dataset with the dataset that contains all the data from ATP tournament matches (excluding the total won points), I merged the 29 datasets into one."
   ]
  },
  {
   "cell_type": "code",
   "execution_count": 32,
   "metadata": {},
   "outputs": [
    {
     "name": "stdout",
     "output_type": "stream",
     "text": [
      "<class 'pandas.core.frame.DataFrame'>\n",
      "Int64Index: 1233 entries, 0 to 14\n",
      "Data columns (total 6 columns):\n",
      " #   Column       Non-Null Count  Dtype  \n",
      "---  ------       --------------  -----  \n",
      " 0   WPts         1212 non-null   float64\n",
      " 1   LPts         1208 non-null   float64\n",
      " 2   winner_rank  1212 non-null   float64\n",
      " 3   Winner       1213 non-null   object \n",
      " 4   Loser        1213 non-null   object \n",
      " 5   match        1213 non-null   object \n",
      "dtypes: float64(3), object(3)\n",
      "memory usage: 67.4+ KB\n"
     ]
    }
   ],
   "source": [
    "df_final = df.append(df1)\n",
    "df_final = df_final.append(df2)\n",
    "df_final = df_final.append(df3)\n",
    "df_final = df_final.append(df4)\n",
    "df_final = df_final.append(df5)\n",
    "df_final = df_final.append(df6)\n",
    "df_final = df_final.append(df7)\n",
    "df_final = df_final.append(df8)\n",
    "df_final = df_final.append(df9)\n",
    "df_final = df_final.append(df10)\n",
    "df_final = df_final.append(df11)\n",
    "df_final = df_final.append(df12)\n",
    "df_final = df_final.append(df13)\n",
    "df_final = df_final.append(df14)\n",
    "df_final = df_final.append(df15)\n",
    "df_final = df_final.append(df16)\n",
    "df_final = df_final.append(df17)\n",
    "df_final = df_final.append(df18)\n",
    "df_final = df_final.append(df19)\n",
    "df_final = df_final.append(df20)\n",
    "df_final = df_final.append(df21)\n",
    "df_final = df_final.append(df22)\n",
    "df_final = df_final.append(df23)\n",
    "df_final = df_final.append(df24)\n",
    "df_final = df_final.append(df25)\n",
    "df_final = df_final.append(df26)\n",
    "df_final = df_final.append(df27)\n",
    "df_final = df_final.append(df28)\n",
    "df_final = df_final.append(df29)\n",
    "\n",
    "df_final.reset_index()\n",
    "\n",
    "# df_final['WPts'] = df_final['WPts'].fillna(0.0).astype(int)\n",
    "# df_final['LPts'] = df_final['LPts'].fillna(0.0).astype(int)\n",
    "\n",
    "df_final.info()"
   ]
  },
  {
   "cell_type": "markdown",
   "metadata": {},
   "source": [
    "### The final dataframe\n",
    "Next I loaded in the 'main' file and merged the two dataset based on commen identifier columns 'match' and 'winner rank'.  "
   ]
  },
  {
   "cell_type": "code",
   "execution_count": 33,
   "metadata": {},
   "outputs": [
    {
     "data": {
      "text/html": [
       "<div>\n",
       "<style scoped>\n",
       "    .dataframe tbody tr th:only-of-type {\n",
       "        vertical-align: middle;\n",
       "    }\n",
       "\n",
       "    .dataframe tbody tr th {\n",
       "        vertical-align: top;\n",
       "    }\n",
       "\n",
       "    .dataframe thead th {\n",
       "        text-align: right;\n",
       "    }\n",
       "</style>\n",
       "<table border=\"1\" class=\"dataframe\">\n",
       "  <thead>\n",
       "    <tr style=\"text-align: right;\">\n",
       "      <th></th>\n",
       "      <th>tourney_name</th>\n",
       "      <th>winner_rank</th>\n",
       "      <th>surface</th>\n",
       "      <th>minutes</th>\n",
       "      <th>winner_name</th>\n",
       "      <th>w_ace</th>\n",
       "      <th>w_df</th>\n",
       "      <th>w_svpt</th>\n",
       "      <th>w_1stIn</th>\n",
       "      <th>w_1stWon</th>\n",
       "      <th>...</th>\n",
       "      <th>l_df</th>\n",
       "      <th>l_svpt</th>\n",
       "      <th>l_1stIn</th>\n",
       "      <th>l_1stWon</th>\n",
       "      <th>l_2ndWon</th>\n",
       "      <th>l_SvGms</th>\n",
       "      <th>l_bpSaved</th>\n",
       "      <th>l_bpFaced</th>\n",
       "      <th>loser_rank</th>\n",
       "      <th>match</th>\n",
       "    </tr>\n",
       "  </thead>\n",
       "  <tbody>\n",
       "    <tr>\n",
       "      <th>0</th>\n",
       "      <td>Atp Cup</td>\n",
       "      <td>2.0</td>\n",
       "      <td>Hard</td>\n",
       "      <td>115.0</td>\n",
       "      <td>Djokovic</td>\n",
       "      <td>12.0</td>\n",
       "      <td>2.0</td>\n",
       "      <td>64.0</td>\n",
       "      <td>49.0</td>\n",
       "      <td>41.0</td>\n",
       "      <td>...</td>\n",
       "      <td>3.0</td>\n",
       "      <td>70.0</td>\n",
       "      <td>51.0</td>\n",
       "      <td>39.0</td>\n",
       "      <td>6.0</td>\n",
       "      <td>10.0</td>\n",
       "      <td>6.0</td>\n",
       "      <td>8.0</td>\n",
       "      <td>1.0</td>\n",
       "      <td>Djokovic - Nadal</td>\n",
       "    </tr>\n",
       "    <tr>\n",
       "      <th>1</th>\n",
       "      <td>Atp Cup</td>\n",
       "      <td>10.0</td>\n",
       "      <td>Hard</td>\n",
       "      <td>97.0</td>\n",
       "      <td>Agut</td>\n",
       "      <td>2.0</td>\n",
       "      <td>1.0</td>\n",
       "      <td>59.0</td>\n",
       "      <td>44.0</td>\n",
       "      <td>29.0</td>\n",
       "      <td>...</td>\n",
       "      <td>1.0</td>\n",
       "      <td>57.0</td>\n",
       "      <td>35.0</td>\n",
       "      <td>21.0</td>\n",
       "      <td>6.0</td>\n",
       "      <td>9.0</td>\n",
       "      <td>5.0</td>\n",
       "      <td>10.0</td>\n",
       "      <td>34.0</td>\n",
       "      <td>Agut - Lajovic</td>\n",
       "    </tr>\n",
       "    <tr>\n",
       "      <th>2</th>\n",
       "      <td>Atp Cup</td>\n",
       "      <td>2.0</td>\n",
       "      <td>Hard</td>\n",
       "      <td>167.0</td>\n",
       "      <td>Djokovic</td>\n",
       "      <td>4.0</td>\n",
       "      <td>5.0</td>\n",
       "      <td>111.0</td>\n",
       "      <td>75.0</td>\n",
       "      <td>53.0</td>\n",
       "      <td>...</td>\n",
       "      <td>5.0</td>\n",
       "      <td>108.0</td>\n",
       "      <td>57.0</td>\n",
       "      <td>35.0</td>\n",
       "      <td>25.0</td>\n",
       "      <td>14.0</td>\n",
       "      <td>6.0</td>\n",
       "      <td>11.0</td>\n",
       "      <td>5.0</td>\n",
       "      <td>Djokovic - Medvedev</td>\n",
       "    </tr>\n",
       "    <tr>\n",
       "      <th>3</th>\n",
       "      <td>Atp Cup</td>\n",
       "      <td>34.0</td>\n",
       "      <td>Hard</td>\n",
       "      <td>108.0</td>\n",
       "      <td>Lajovic</td>\n",
       "      <td>1.0</td>\n",
       "      <td>1.0</td>\n",
       "      <td>67.0</td>\n",
       "      <td>48.0</td>\n",
       "      <td>38.0</td>\n",
       "      <td>...</td>\n",
       "      <td>3.0</td>\n",
       "      <td>79.0</td>\n",
       "      <td>54.0</td>\n",
       "      <td>39.0</td>\n",
       "      <td>14.0</td>\n",
       "      <td>12.0</td>\n",
       "      <td>0.0</td>\n",
       "      <td>1.0</td>\n",
       "      <td>17.0</td>\n",
       "      <td>Lajovic - Khachanov</td>\n",
       "    </tr>\n",
       "    <tr>\n",
       "      <th>4</th>\n",
       "      <td>Atp Cup</td>\n",
       "      <td>1.0</td>\n",
       "      <td>Hard</td>\n",
       "      <td>133.0</td>\n",
       "      <td>Nadal</td>\n",
       "      <td>5.0</td>\n",
       "      <td>3.0</td>\n",
       "      <td>84.0</td>\n",
       "      <td>61.0</td>\n",
       "      <td>48.0</td>\n",
       "      <td>...</td>\n",
       "      <td>1.0</td>\n",
       "      <td>75.0</td>\n",
       "      <td>55.0</td>\n",
       "      <td>37.0</td>\n",
       "      <td>10.0</td>\n",
       "      <td>14.0</td>\n",
       "      <td>1.0</td>\n",
       "      <td>5.0</td>\n",
       "      <td>18.0</td>\n",
       "      <td>Nadal - Minaur</td>\n",
       "    </tr>\n",
       "  </tbody>\n",
       "</table>\n",
       "<p>5 rows × 26 columns</p>\n",
       "</div>"
      ],
      "text/plain": [
       "  tourney_name  winner_rank surface  minutes winner_name  w_ace  w_df  w_svpt  \\\n",
       "0      Atp Cup          2.0    Hard    115.0    Djokovic   12.0   2.0    64.0   \n",
       "1      Atp Cup         10.0    Hard     97.0        Agut    2.0   1.0    59.0   \n",
       "2      Atp Cup          2.0    Hard    167.0    Djokovic    4.0   5.0   111.0   \n",
       "3      Atp Cup         34.0    Hard    108.0     Lajovic    1.0   1.0    67.0   \n",
       "4      Atp Cup          1.0    Hard    133.0       Nadal    5.0   3.0    84.0   \n",
       "\n",
       "   w_1stIn  w_1stWon  ...  l_df  l_svpt  l_1stIn  l_1stWon l_2ndWon  l_SvGms  \\\n",
       "0     49.0      41.0  ...   3.0    70.0     51.0      39.0      6.0     10.0   \n",
       "1     44.0      29.0  ...   1.0    57.0     35.0      21.0      6.0      9.0   \n",
       "2     75.0      53.0  ...   5.0   108.0     57.0      35.0     25.0     14.0   \n",
       "3     48.0      38.0  ...   3.0    79.0     54.0      39.0     14.0     12.0   \n",
       "4     61.0      48.0  ...   1.0    75.0     55.0      37.0     10.0     14.0   \n",
       "\n",
       "   l_bpSaved  l_bpFaced  loser_rank                match  \n",
       "0        6.0        8.0         1.0     Djokovic - Nadal  \n",
       "1        5.0       10.0        34.0       Agut - Lajovic  \n",
       "2        6.0       11.0         5.0  Djokovic - Medvedev  \n",
       "3        0.0        1.0        17.0  Lajovic - Khachanov  \n",
       "4        1.0        5.0        18.0       Nadal - Minaur  \n",
       "\n",
       "[5 rows x 26 columns]"
      ]
     },
     "execution_count": 33,
     "metadata": {},
     "output_type": "execute_result"
    }
   ],
   "source": [
    "df_matches = pd.read_csv('atp_matches_2020.csv', sep=';')\n",
    "df_matches = df_matches[['tourney_name', 'winner_rank', 'surface', 'minutes', 'winner_name', 'w_ace', 'w_df', 'w_svpt', 'w_1stIn', 'w_1stWon', 'w_2ndWon', 'w_SvGms', 'w_bpSaved', 'w_bpFaced', 'loser_name', 'l_ace', 'l_df', 'l_svpt', 'l_1stIn', 'l_1stWon', 'l_2ndWon', 'l_SvGms', 'l_bpSaved', 'l_bpFaced', 'loser_rank']]\n",
    "\n",
    "df_matches['winner_name'] = df_matches['winner_name'].str.split(' ').str[-1]\n",
    "df_matches['loser_name'] = df_matches['loser_name'].str.split(' ').str[-1]\n",
    "df_matches['match'] = df_matches['winner_name'] + ' - ' + df_matches['loser_name']\n",
    " \n",
    "df_matches.head()"
   ]
  },
  {
   "cell_type": "code",
   "execution_count": 34,
   "metadata": {},
   "outputs": [
    {
     "name": "stdout",
     "output_type": "stream",
     "text": [
      "<class 'pandas.core.frame.DataFrame'>\n",
      "Int64Index: 1060 entries, 8 to 1505\n",
      "Data columns (total 30 columns):\n",
      " #   Column        Non-Null Count  Dtype  \n",
      "---  ------        --------------  -----  \n",
      " 0   tourney_name  1060 non-null   object \n",
      " 1   winner_rank   1060 non-null   float64\n",
      " 2   surface       1060 non-null   object \n",
      " 3   minutes       1060 non-null   float64\n",
      " 4   winner_name   1060 non-null   object \n",
      " 5   w_ace         1060 non-null   float64\n",
      " 6   w_df          1060 non-null   float64\n",
      " 7   w_svpt        1060 non-null   float64\n",
      " 8   w_1stIn       1060 non-null   float64\n",
      " 9   w_1stWon      1060 non-null   float64\n",
      " 10  w_2ndWon      1060 non-null   float64\n",
      " 11  w_SvGms       1060 non-null   float64\n",
      " 12  w_bpSaved     1060 non-null   float64\n",
      " 13  w_bpFaced     1060 non-null   float64\n",
      " 14  loser_name    1060 non-null   object \n",
      " 15  l_ace         1060 non-null   float64\n",
      " 16  l_df          1060 non-null   float64\n",
      " 17  l_svpt        1060 non-null   float64\n",
      " 18  l_1stIn       1060 non-null   float64\n",
      " 19  l_1stWon      1060 non-null   float64\n",
      " 20  l_2ndWon      1060 non-null   float64\n",
      " 21  l_SvGms       1060 non-null   float64\n",
      " 22  l_bpSaved     1060 non-null   float64\n",
      " 23  l_bpFaced     1060 non-null   float64\n",
      " 24  loser_rank    1060 non-null   float64\n",
      " 25  match         1060 non-null   object \n",
      " 26  WPts          1060 non-null   int64  \n",
      " 27  LPts          1060 non-null   int64  \n",
      " 28  Winner        1060 non-null   object \n",
      " 29  Loser         1060 non-null   object \n",
      "dtypes: float64(21), int64(2), object(7)\n",
      "memory usage: 256.7+ KB\n"
     ]
    }
   ],
   "source": [
    "# df_new = pd.merge(df_matches, df_final, on = 'tourney_name' and 'winner_rank') #'app' is the common identifier\n",
    "# df_new.drop_duplicates()\n",
    "\n",
    "\n",
    "df_new = pd.merge(df_matches, df_final,  how='left', left_on=['match','winner_rank'], right_on = ['match','winner_rank'])\n",
    "\n",
    "# df_new = pd.merge(df_matches, df_final, on = 'match')\n",
    "\n",
    "\n",
    "df_new['WPts'] = df_new['WPts'].fillna(0.0).astype(int)\n",
    "df_new['LPts'] = df_new['LPts'].fillna(0.0).astype(int)\n",
    "\n",
    "df_new = df_new[df_new['WPts'] !=0].dropna()\n",
    "\n",
    "df_new.info()\n",
    "\n",
    "# df_new['tourney_name_x'].values.tolist()"
   ]
  },
  {
   "cell_type": "code",
   "execution_count": 35,
   "metadata": {},
   "outputs": [],
   "source": [
    "df_new.to_csv(\"Matches_with_total_points_per_match.csv\")"
   ]
  },
  {
   "cell_type": "code",
   "execution_count": null,
   "metadata": {},
   "outputs": [],
   "source": []
  }
 ],
 "metadata": {
  "kernelspec": {
   "display_name": "Python 3",
   "language": "python",
   "name": "python3"
  },
  "language_info": {
   "codemirror_mode": {
    "name": "ipython",
    "version": 3
   },
   "file_extension": ".py",
   "mimetype": "text/x-python",
   "name": "python",
   "nbconvert_exporter": "python",
   "pygments_lexer": "ipython3",
   "version": "3.8.3"
  }
 },
 "nbformat": 4,
 "nbformat_minor": 4
}
